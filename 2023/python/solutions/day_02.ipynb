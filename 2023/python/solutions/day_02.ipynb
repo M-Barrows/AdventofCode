{
 "cells": [
  {
   "cell_type": "markdown",
   "metadata": {},
   "source": [
    "## Load Packages"
   ]
  },
  {
   "cell_type": "code",
   "execution_count": 1,
   "metadata": {},
   "outputs": [],
   "source": [
    "from aocd import get_data, submit\n",
    "from dotenv import load_dotenv"
   ]
  },
  {
   "cell_type": "markdown",
   "metadata": {},
   "source": [
    "## Configure Environment"
   ]
  },
  {
   "cell_type": "code",
   "execution_count": 2,
   "metadata": {},
   "outputs": [
    {
     "data": {
      "text/plain": [
       "True"
      ]
     },
     "execution_count": 2,
     "metadata": {},
     "output_type": "execute_result"
    }
   ],
   "source": [
    "puzzle_day = 2\n",
    "puzzle_year = 2023\n",
    "load_dotenv()"
   ]
  },
  {
   "cell_type": "markdown",
   "metadata": {},
   "source": [
    "## Load Data"
   ]
  },
  {
   "cell_type": "code",
   "execution_count": 3,
   "metadata": {},
   "outputs": [],
   "source": [
    "raw_data = get_data(day=puzzle_day, year=puzzle_year)"
   ]
  },
  {
   "cell_type": "markdown",
   "metadata": {},
   "source": [
    "## Solution A"
   ]
  },
  {
   "cell_type": "markdown",
   "metadata": {},
   "source": [
    "### Solve"
   ]
  },
  {
   "cell_type": "code",
   "execution_count": 4,
   "metadata": {},
   "outputs": [],
   "source": [
    "test_solution_a=8\n",
    "test_data_a = \"\"\"\n",
    "Game 1: 3 blue, 4 red; 1 red, 2 green, 6 blue; 2 green\n",
    "Game 2: 1 blue, 2 green; 3 green, 4 blue, 1 red; 1 green, 1 blue\n",
    "Game 3: 8 green, 6 blue, 20 red; 5 blue, 4 red, 13 green; 5 green, 1 red\n",
    "Game 4: 1 green, 3 red, 6 blue; 3 green, 6 red; 3 green, 15 blue, 14 red\n",
    "Game 5: 6 red, 1 blue, 3 green; 2 blue, 1 red, 2 green\"\"\"\n",
    "test_data_a = test_data_a[1:] # remove newline at beginning used to maintain formatting"
   ]
  },
  {
   "cell_type": "code",
   "execution_count": 17,
   "metadata": {},
   "outputs": [],
   "source": [
    "#12 red 13 green 14 blue\n",
    "max_possible = {'blue': 14, 'green': 13, 'red': 12}\n",
    "\n",
    "def solve_part_a(data:str):\n",
    "    games = data.split('\\n')\n",
    "    passing_games = list()\n",
    "    for i,g in enumerate(games,1):\n",
    "        sets = g.split(': ')[1].split('; ')\n",
    "        passing_sets = 0\n",
    "        for set in sets:\n",
    "            pulls = set.split(', ')\n",
    "            passing_pulls = 0\n",
    "            for pull in pulls:\n",
    "                count, color = pull.split(' ')[0], pull.split(' ')[1]\n",
    "                if int(count) <= max_possible.get(color,0):\n",
    "                    passing_pulls += 1\n",
    "            if passing_pulls == len(pulls):\n",
    "                passing_sets += 1\n",
    "        if passing_sets == len(sets):\n",
    "            passing_games.append(i)\n",
    "    return sum(passing_games)    \n",
    "\n",
    "assert solve_part_a(test_data_a) == test_solution_a\n",
    "\n",
    "soln_a = solve_part_a(raw_data)"
   ]
  },
  {
   "cell_type": "markdown",
   "metadata": {},
   "source": [
    "### Submit"
   ]
  },
  {
   "cell_type": "code",
   "execution_count": 18,
   "metadata": {},
   "outputs": [
    {
     "name": "stdout",
     "output_type": "stream",
     "text": [
      "\u001b[32mThat's the right answer!  You are one gold star closer to restoring snow operations. [Continue to Part Two]\u001b[0m\n"
     ]
    }
   ],
   "source": [
    "if soln_a:\n",
    "    submit(soln_a, part=\"a\", day=puzzle_day, year=puzzle_year)"
   ]
  },
  {
   "cell_type": "markdown",
   "metadata": {},
   "source": [
    "## Solution B"
   ]
  },
  {
   "cell_type": "markdown",
   "metadata": {},
   "source": [
    "### Solve"
   ]
  },
  {
   "cell_type": "code",
   "execution_count": 20,
   "metadata": {},
   "outputs": [],
   "source": [
    "test_solution_b=2286\n",
    "test_data_b = \"\"\"\n",
    "Game 1: 3 blue, 4 red; 1 red, 2 green, 6 blue; 2 green\n",
    "Game 2: 1 blue, 2 green; 3 green, 4 blue, 1 red; 1 green, 1 blue\n",
    "Game 3: 8 green, 6 blue, 20 red; 5 blue, 4 red, 13 green; 5 green, 1 red\n",
    "Game 4: 1 green, 3 red, 6 blue; 3 green, 6 red; 3 green, 15 blue, 14 red\n",
    "Game 5: 6 red, 1 blue, 3 green; 2 blue, 1 red, 2 green\"\"\"\n",
    "test_data_b = test_data_b[1:] # remove newline at beginning used to maintain formatting"
   ]
  },
  {
   "cell_type": "code",
   "execution_count": 21,
   "metadata": {},
   "outputs": [],
   "source": [
    "def solve_part_b(data:str):\n",
    "    games = data.split('\\n')\n",
    "    game_powers = list()\n",
    "    for i,g in enumerate(games,1):\n",
    "        min_reqs = {\n",
    "            \"red\": 0,\n",
    "            \"green\": 0,\n",
    "            \"blue\": 0,\n",
    "        }\n",
    "        sets = g.split(': ')[1].split('; ')\n",
    "        for set in sets:\n",
    "            pulls = set.split(', ')\n",
    "            for pull in pulls:\n",
    "                count, color = pull.split(' ')[0], pull.split(' ')[1]\n",
    "                if int(count) >= min_reqs.get(color,0):\n",
    "                    min_reqs[color] = int(count)\n",
    "        power = min_reqs['red'] * min_reqs['green'] * min_reqs['blue']\n",
    "        game_powers.append(power)\n",
    "    return sum(game_powers)    \n",
    "assert solve_part_b(test_data_b) == test_solution_b\n",
    "soln_b = solve_part_b(raw_data)"
   ]
  },
  {
   "cell_type": "markdown",
   "metadata": {},
   "source": [
    "### Submit"
   ]
  },
  {
   "cell_type": "code",
   "execution_count": 22,
   "metadata": {},
   "outputs": [
    {
     "name": "stdout",
     "output_type": "stream",
     "text": [
      "\u001b[32mThat's the right answer!  You are one gold star closer to restoring snow operations.You have completed Day 2! You can [Shareon\n",
      "  Twitter\n",
      "Mastodon] this victory or [Return to Your Advent Calendar].\u001b[0m\n"
     ]
    }
   ],
   "source": [
    "if soln_b:\n",
    "    submit(soln_b, part=\"b\", day=puzzle_day, year=puzzle_year)"
   ]
  }
 ],
 "metadata": {
  "kernelspec": {
   "display_name": ".venv",
   "language": "python",
   "name": "python3"
  },
  "language_info": {
   "codemirror_mode": {
    "name": "ipython",
    "version": 3
   },
   "file_extension": ".py",
   "mimetype": "text/x-python",
   "name": "python",
   "nbconvert_exporter": "python",
   "pygments_lexer": "ipython3",
   "version": "3.10.12"
  }
 },
 "nbformat": 4,
 "nbformat_minor": 2
}
