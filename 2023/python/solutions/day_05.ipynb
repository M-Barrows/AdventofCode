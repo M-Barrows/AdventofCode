{
 "cells": [
  {
   "cell_type": "markdown",
   "metadata": {},
   "source": [
    "## Load Packages"
   ]
  },
  {
   "cell_type": "code",
   "execution_count": 2,
   "metadata": {},
   "outputs": [],
   "source": [
    "from aocd import get_data, submit\n",
    "from dotenv import load_dotenv\n",
    "from tqdm import tqdm"
   ]
  },
  {
   "cell_type": "markdown",
   "metadata": {},
   "source": [
    "## Configure Environment"
   ]
  },
  {
   "cell_type": "code",
   "execution_count": 3,
   "metadata": {},
   "outputs": [
    {
     "data": {
      "text/plain": [
       "True"
      ]
     },
     "execution_count": 3,
     "metadata": {},
     "output_type": "execute_result"
    }
   ],
   "source": [
    "puzzle_day = 5\n",
    "puzzle_year = 2023\n",
    "load_dotenv()"
   ]
  },
  {
   "cell_type": "markdown",
   "metadata": {},
   "source": [
    "## Load Data"
   ]
  },
  {
   "cell_type": "code",
   "execution_count": 4,
   "metadata": {},
   "outputs": [],
   "source": [
    "raw_data = get_data(day=puzzle_day, year=puzzle_year)"
   ]
  },
  {
   "cell_type": "markdown",
   "metadata": {},
   "source": [
    "## Solution A"
   ]
  },
  {
   "cell_type": "markdown",
   "metadata": {},
   "source": [
    "### Solve"
   ]
  },
  {
   "cell_type": "code",
   "execution_count": 5,
   "metadata": {},
   "outputs": [],
   "source": [
    "test_solution_a=35\n",
    "test_data_a = \"\"\"\n",
    "seeds: 79 14 55 13\n",
    "\n",
    "seed-to-soil map:\n",
    "50 98 2\n",
    "52 50 48\n",
    "\n",
    "soil-to-fertilizer map:\n",
    "0 15 37\n",
    "37 52 2\n",
    "39 0 15\n",
    "\n",
    "fertilizer-to-water map:\n",
    "49 53 8\n",
    "0 11 42\n",
    "42 0 7\n",
    "57 7 4\n",
    "\n",
    "water-to-light map:\n",
    "88 18 7\n",
    "18 25 70\n",
    "\n",
    "light-to-temperature map:\n",
    "45 77 23\n",
    "81 45 19\n",
    "68 64 13\n",
    "\n",
    "temperature-to-humidity map:\n",
    "0 69 1\n",
    "1 0 69\n",
    "\n",
    "humidity-to-location map:\n",
    "60 56 37\n",
    "56 93 4\"\"\"\n",
    "test_data_a = test_data_a[1:] # remove newline at beginning used to maintain formatting"
   ]
  },
  {
   "cell_type": "markdown",
   "metadata": {},
   "source": [
    "### Helper Functions"
   ]
  },
  {
   "cell_type": "code",
   "execution_count": 6,
   "metadata": {},
   "outputs": [],
   "source": [
    "def get_seeds(data:str):\n",
    "    seed_line = data.split('\\n')[0]\n",
    "    seed_list = [seed for seed in seed_line.split()[1:]]\n",
    "    return seed_list"
   ]
  },
  {
   "cell_type": "code",
   "execution_count": 7,
   "metadata": {},
   "outputs": [],
   "source": [
    "def expand_ranges(map_ranges): \n",
    "    map_ranges = [[int(val) for val in line] for line in map_ranges]\n",
    "    source = [range(line[1],line[1]+line[2],1) for line in map_ranges]\n",
    "    destination = [range(line[0],line[0]+line[2],1) for line in map_ranges]\n",
    "    pairings = list()\n",
    "    for i,v in enumerate(source):\n",
    "        pair = (v,destination[i])\n",
    "        pairings.append(pair)\n",
    "    return pairings"
   ]
  },
  {
   "cell_type": "code",
   "execution_count": 8,
   "metadata": {},
   "outputs": [],
   "source": [
    "def get_maps(data:str):\n",
    "    map_list = data.split('\\n\\n')[1:]\n",
    "    maps = dict()\n",
    "    for map_key in map_list:\n",
    "        lines = map_key.split('\\n')\n",
    "        name = lines[0]\n",
    "        keys = [line.split() for line in lines[1:]]\n",
    "        pairings = expand_ranges(keys)\n",
    "        maps.update({name:pairings})\n",
    "    return maps\n"
   ]
  },
  {
   "cell_type": "code",
   "execution_count": 9,
   "metadata": {},
   "outputs": [],
   "source": [
    "def get_seed_conversion_dict(seed:str,map_dict:dict):\n",
    "    seed_dict = dict({'seed':seed})\n",
    "    step_value = int(seed)\n",
    "    for key,map_range_pairs in map_dict.items():\n",
    "        step_key = key.split()[0].split('-')[-1]\n",
    "        for pair in map_range_pairs:\n",
    "            source,destination = pair\n",
    "            if step_value in source:\n",
    "                step_value = destination[source.index(step_value)]\n",
    "                seed_dict.update({step_key:step_value})\n",
    "                break\n",
    "        seed_dict.update({step_key:step_value})\n",
    "    return seed_dict"
   ]
  },
  {
   "cell_type": "code",
   "execution_count": 10,
   "metadata": {},
   "outputs": [],
   "source": [
    "def solve_part_a(data:str):\n",
    "    seeds = get_seeds(data)\n",
    "    maps = get_maps(data)\n",
    "    seed_conversions = {seed:get_seed_conversion_dict(seed,maps) for seed in seeds}\n",
    "    seed_locations = {k:v.get('location') for k,v in seed_conversions.items()}\n",
    "    closest_location = min(seed_locations.values())\n",
    "    return int(closest_location)\n",
    "assert solve_part_a(test_data_a) == test_solution_a\n",
    "\n",
    "soln_a = solve_part_a(raw_data)"
   ]
  },
  {
   "cell_type": "markdown",
   "metadata": {},
   "source": [
    "### Submit"
   ]
  },
  {
   "cell_type": "code",
   "execution_count": 11,
   "metadata": {},
   "outputs": [
    {
     "name": "stdout",
     "output_type": "stream",
     "text": [
      "aocd will not submit that answer again. At 2023-12-06 14:04:20.428030-05:00 you've previously submitted 662197086 and the server responded with:\n",
      "\u001b[32mThat's the right answer!  You are one gold star closer to restoring snow operations. [Continue to Part Two]\u001b[0m\n"
     ]
    }
   ],
   "source": [
    "if soln_a:\n",
    "    submit(soln_a, part=\"a\", day=puzzle_day, year=puzzle_year)"
   ]
  },
  {
   "cell_type": "markdown",
   "metadata": {},
   "source": [
    "## Solution B"
   ]
  },
  {
   "cell_type": "markdown",
   "metadata": {},
   "source": [
    "### Solve"
   ]
  },
  {
   "cell_type": "code",
   "execution_count": 12,
   "metadata": {},
   "outputs": [],
   "source": [
    "test_solution_b=46\n",
    "test_data_b = test_data_a"
   ]
  },
  {
   "cell_type": "markdown",
   "metadata": {},
   "source": [
    "### Helper Functions"
   ]
  },
  {
   "cell_type": "code",
   "execution_count": 13,
   "metadata": {},
   "outputs": [],
   "source": [
    "def get_seed_ranges(data:str):\n",
    "    seed_line = data.split('\\n')[0]\n",
    "    seed_line_numbers = [int(number) for number in seed_line.split()[1:]]\n",
    "    seeds = list()\n",
    "    for i,v in enumerate(seed_line_numbers):\n",
    "        if i % 2 == 0:\n",
    "            seed_range = range(v,v+seed_line_numbers[i+1])\n",
    "            seeds.append(seed_range)\n",
    "    return seeds"
   ]
  },
  {
   "cell_type": "code",
   "execution_count": 14,
   "metadata": {},
   "outputs": [],
   "source": [
    "\n",
    "import numpy as np\n",
    "def subdivide_ranges(ranges,groups):\n",
    "    final_ranges = list()\n",
    "    for r in ranges: \n",
    "        a_r = [range(min(a),max(a)+1,1) for a in np.array_split(r,groups)]\n",
    "        a_r[-1] = range(a_r[-1].start,a_r[-1].stop+1,a_r[-1].step)\n",
    "        final_ranges.extend(a_r)\n",
    "    return final_ranges"
   ]
  },
  {
   "cell_type": "code",
   "execution_count": 15,
   "metadata": {},
   "outputs": [
    {
     "name": "stderr",
     "output_type": "stream",
     "text": [
      "100%|██████████| 14/14 [00:00<00:00, 27829.51it/s]\n",
      "100%|██████████| 13/13 [00:00<00:00, 26328.32it/s]\n",
      "  0%|          | 0/405592018 [00:00<?, ?it/s]"
     ]
    },
    {
     "name": "stderr",
     "output_type": "stream",
     "text": [
      "100%|██████████| 405592018/405592018 [1:16:04<00:00, 88862.39it/s]\n",
      "100%|██████████| 27782252/27782252 [05:21<00:00, 86304.21it/s] \n",
      "100%|██████████| 61862174/61862174 [12:44<00:00, 80914.18it/s]\n",
      " 42%|████▏     | 75967194/181169206 [13:53<20:19, 86287.61it/s]  "
     ]
    }
   ],
   "source": [
    "#TODO: reverse the process. Start with location (Sorted) and search back to seeds. If you get a seed match, you will \n",
    "# have found the answer. Forward search takes a loooong time! \n",
    "def solve_part_b(data:str):\n",
    "    seed_ranges = get_seed_ranges(data)\n",
    "    maps = get_maps(data)\n",
    "    minimum_location = float('inf')\n",
    "    for seed_range in seed_ranges:\n",
    "        for seed in tqdm(seed_range):\n",
    "            seed_conversion = get_seed_conversion_dict(seed,maps)\n",
    "            minimum_location = int(seed_conversion.get('location',minimum_location)) if int(seed_conversion.get('location',minimum_location)) < minimum_location else minimum_location\n",
    "    return minimum_location\n",
    "\n",
    "assert solve_part_b(test_data_b) == test_solution_b\n",
    "soln_b = solve_part_b(raw_data)"
   ]
  },
  {
   "cell_type": "markdown",
   "metadata": {},
   "source": [
    "### Submit"
   ]
  },
  {
   "cell_type": "code",
   "execution_count": null,
   "metadata": {},
   "outputs": [],
   "source": [
    "if soln_b:\n",
    "    submit(soln_b, part=\"b\", day=puzzle_day, year=puzzle_year)"
   ]
  }
 ],
 "metadata": {
  "kernelspec": {
   "display_name": ".venv",
   "language": "python",
   "name": "python3"
  },
  "language_info": {
   "codemirror_mode": {
    "name": "ipython",
    "version": 3
   },
   "file_extension": ".py",
   "mimetype": "text/x-python",
   "name": "python",
   "nbconvert_exporter": "python",
   "pygments_lexer": "ipython3",
   "version": "3.10.12"
  }
 },
 "nbformat": 4,
 "nbformat_minor": 2
}
