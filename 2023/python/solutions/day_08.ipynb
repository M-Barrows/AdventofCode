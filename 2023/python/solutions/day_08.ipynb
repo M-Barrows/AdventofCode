{
 "cells": [
  {
   "cell_type": "markdown",
   "metadata": {},
   "source": [
    "## Load Packages"
   ]
  },
  {
   "cell_type": "code",
   "execution_count": 1,
   "metadata": {},
   "outputs": [],
   "source": [
    "from aocd import get_data, submit\n",
    "from dotenv import load_dotenv\n",
    "from tqdm import tqdm\n"
   ]
  },
  {
   "cell_type": "markdown",
   "metadata": {},
   "source": [
    "## Configure Environment"
   ]
  },
  {
   "cell_type": "code",
   "execution_count": 2,
   "metadata": {},
   "outputs": [
    {
     "data": {
      "text/plain": [
       "True"
      ]
     },
     "execution_count": 2,
     "metadata": {},
     "output_type": "execute_result"
    }
   ],
   "source": [
    "puzzle_day = 8\n",
    "puzzle_year = 2023\n",
    "load_dotenv()"
   ]
  },
  {
   "cell_type": "markdown",
   "metadata": {},
   "source": [
    "## Load Data"
   ]
  },
  {
   "cell_type": "code",
   "execution_count": 3,
   "metadata": {},
   "outputs": [],
   "source": [
    "raw_data = get_data(day=puzzle_day, year=puzzle_year)"
   ]
  },
  {
   "cell_type": "markdown",
   "metadata": {},
   "source": [
    "## Solution A"
   ]
  },
  {
   "cell_type": "markdown",
   "metadata": {},
   "source": [
    "### Solve"
   ]
  },
  {
   "cell_type": "code",
   "execution_count": 4,
   "metadata": {},
   "outputs": [],
   "source": [
    "test_solution_a=6\n",
    "test_data_a = \"\"\"\n",
    "LLR\n",
    "\n",
    "AAA = (BBB, BBB)\n",
    "BBB = (AAA, ZZZ)\n",
    "ZZZ = (ZZZ, ZZZ)\"\"\"\n",
    "test_data_a = test_data_a[1:] # remove newline at beginning used to maintain formatting"
   ]
  },
  {
   "cell_type": "markdown",
   "metadata": {},
   "source": [
    "### Helper Functions"
   ]
  },
  {
   "cell_type": "code",
   "execution_count": 5,
   "metadata": {},
   "outputs": [],
   "source": [
    "def get_pattern(data:str):\n",
    "    pattern = data.split('\\n')[0]\n",
    "    m = {'L':0,'R':1}\n",
    "    p = [m.get(c) for c in pattern] #[0,0,1]\n",
    "    return p"
   ]
  },
  {
   "cell_type": "code",
   "execution_count": 6,
   "metadata": {},
   "outputs": [],
   "source": [
    "def get_nodes(data:str):\n",
    "    nodes = data.split('\\n')[2:]\n",
    "    nodes_dict = dict()\n",
    "    for node in nodes:\n",
    "        k,v = node.split(' = ')\n",
    "        nodes_dict.update({k:eval(v.replace(', ','\", \"').replace('(','(\"').replace(')','\")'))})\n",
    "    return nodes_dict"
   ]
  },
  {
   "cell_type": "code",
   "execution_count": 7,
   "metadata": {},
   "outputs": [],
   "source": [
    "def solve_part_a(data:str):\n",
    "    pattern = get_pattern(data)\n",
    "    nodes = get_nodes(data)\n",
    "    current_node = 'AAA'\n",
    "    pattern_index = 0\n",
    "    steps = 0\n",
    "    while current_node != 'ZZZ':\n",
    "        current_node = nodes.get(current_node,'AAA')[pattern[pattern_index]]\n",
    "        steps += 1\n",
    "        if pattern_index == (len(pattern)-1):\n",
    "            pattern_index = 0\n",
    "        else:\n",
    "            pattern_index += 1\n",
    "    return steps\n",
    "\n",
    "assert solve_part_a(test_data_a) == test_solution_a\n",
    "\n",
    "soln_a = solve_part_a(raw_data)"
   ]
  },
  {
   "cell_type": "markdown",
   "metadata": {},
   "source": [
    "### Submit"
   ]
  },
  {
   "cell_type": "code",
   "execution_count": 8,
   "metadata": {},
   "outputs": [
    {
     "name": "stdout",
     "output_type": "stream",
     "text": [
      "aocd will not submit that answer again. At 2023-12-08 01:34:30.018349-05:00 you've previously submitted 16409 and the server responded with:\n",
      "\u001b[32mThat's the right answer!  You are one gold star closer to restoring snow operations. [Continue to Part Two]\u001b[0m\n"
     ]
    }
   ],
   "source": [
    "if soln_a:\n",
    "    submit(soln_a, part=\"a\", day=puzzle_day, year=puzzle_year)"
   ]
  },
  {
   "cell_type": "markdown",
   "metadata": {},
   "source": [
    "## Solution B"
   ]
  },
  {
   "cell_type": "markdown",
   "metadata": {},
   "source": [
    "### Solve"
   ]
  },
  {
   "cell_type": "code",
   "execution_count": 9,
   "metadata": {},
   "outputs": [],
   "source": [
    "test_solution_b=6\n",
    "test_data_b = \"\"\"\n",
    "LR\n",
    "\n",
    "11A = (11B, XXX)\n",
    "11B = (XXX, 11Z)\n",
    "11Z = (11B, XXX)\n",
    "22A = (22B, XXX)\n",
    "22B = (22C, 22C)\n",
    "22C = (22Z, 22Z)\n",
    "22Z = (22B, 22B)\n",
    "XXX = (XXX, XXX)\"\"\"\n",
    "test_data_b = test_data_b[1:]"
   ]
  },
  {
   "cell_type": "markdown",
   "metadata": {},
   "source": [
    "### Helper Functions"
   ]
  },
  {
   "cell_type": "code",
   "execution_count": 10,
   "metadata": {},
   "outputs": [],
   "source": [
    "from datetime import datetime\n",
    "from math import lcm"
   ]
  },
  {
   "cell_type": "code",
   "execution_count": 11,
   "metadata": {},
   "outputs": [],
   "source": [
    "def get_starting_nodes(nodes):\n",
    "    starting_nodes = [node for node in nodes if node.endswith(\"A\")]\n",
    "    return starting_nodes"
   ]
  },
  {
   "cell_type": "code",
   "execution_count": 18,
   "metadata": {},
   "outputs": [],
   "source": [
    "def solve_part_b(data:str):\n",
    "    pattern = get_pattern(data)\n",
    "    nodes = get_nodes(data)\n",
    "    current_nodes = get_starting_nodes(nodes.keys())\n",
    "    pattern_index = 0\n",
    "    steps = 0\n",
    "    found_paths = list()\n",
    "    while len(current_nodes)>=1:\n",
    "        steps += 1\n",
    "        node_for_removal = None\n",
    "        for i,current_node in enumerate(current_nodes):\n",
    "            current_nodes[i] = nodes.get(current_node,'AAA')[pattern[pattern_index]]\n",
    "            if current_nodes[i].endswith('Z'):\n",
    "                node_for_removal = i\n",
    "                found_paths.append(steps)\n",
    "        if node_for_removal is not None:\n",
    "            current_nodes.remove(current_nodes[node_for_removal])\n",
    "        if pattern_index == (len(pattern)-1):\n",
    "            pattern_index = 0\n",
    "        else:\n",
    "            pattern_index += 1\n",
    "    return lcm(*found_paths)\n",
    "\n",
    "assert solve_part_b(test_data_b) == test_solution_b\n",
    "soln_b = solve_part_b(raw_data)"
   ]
  },
  {
   "cell_type": "markdown",
   "metadata": {},
   "source": [
    "### Submit"
   ]
  },
  {
   "cell_type": "code",
   "execution_count": 19,
   "metadata": {},
   "outputs": [
    {
     "name": "stdout",
     "output_type": "stream",
     "text": [
      "\u001b[32mThat's the right answer!  You are one gold star closer to restoring snow operations.You have completed Day 8! You can [Shareon\n",
      "  Twitter\n",
      "Mastodon] this victory or [Return to Your Advent Calendar].\u001b[0m\n"
     ]
    }
   ],
   "source": [
    "if soln_b:\n",
    "    submit(soln_b, part=\"b\", day=puzzle_day, year=puzzle_year)"
   ]
  }
 ],
 "metadata": {
  "kernelspec": {
   "display_name": ".venv",
   "language": "python",
   "name": "python3"
  },
  "language_info": {
   "codemirror_mode": {
    "name": "ipython",
    "version": 3
   },
   "file_extension": ".py",
   "mimetype": "text/x-python",
   "name": "python",
   "nbconvert_exporter": "python",
   "pygments_lexer": "ipython3",
   "version": "3.10.12"
  }
 },
 "nbformat": 4,
 "nbformat_minor": 2
}
