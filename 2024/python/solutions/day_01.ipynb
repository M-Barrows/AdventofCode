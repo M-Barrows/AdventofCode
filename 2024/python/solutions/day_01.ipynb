{
 "cells": [
  {
   "cell_type": "markdown",
   "metadata": {},
   "source": [
    "## Load Packages"
   ]
  },
  {
   "cell_type": "code",
   "execution_count": 1,
   "metadata": {},
   "outputs": [
    {
     "name": "stderr",
     "output_type": "stream",
     "text": [
      "current_day is only available in December (EST)\n"
     ]
    }
   ],
   "source": [
    "from aocd import get_data, submit\n",
    "from dotenv import load_dotenv"
   ]
  },
  {
   "cell_type": "markdown",
   "metadata": {},
   "source": [
    "## Configure Environment"
   ]
  },
  {
   "cell_type": "code",
   "execution_count": 40,
   "metadata": {},
   "outputs": [
    {
     "data": {
      "text/plain": [
       "True"
      ]
     },
     "execution_count": 40,
     "metadata": {},
     "output_type": "execute_result"
    }
   ],
   "source": [
    "puzzle_day = 1\n",
    "puzzle_year = 2024\n",
    "load_dotenv()"
   ]
  },
  {
   "cell_type": "markdown",
   "metadata": {},
   "source": [
    "## Load Data"
   ]
  },
  {
   "cell_type": "code",
   "execution_count": 41,
   "metadata": {},
   "outputs": [],
   "source": [
    "raw_data = get_data(day=puzzle_day, year=puzzle_year)"
   ]
  },
  {
   "cell_type": "markdown",
   "metadata": {},
   "source": [
    "## Solution A"
   ]
  },
  {
   "cell_type": "markdown",
   "metadata": {},
   "source": [
    "### Solve"
   ]
  },
  {
   "cell_type": "code",
   "execution_count": 28,
   "metadata": {},
   "outputs": [],
   "source": [
    "test_solution_a=11\n",
    "test_data_a = \"\"\"\n",
    "3   4\n",
    "4   3\n",
    "2   5\n",
    "1   3\n",
    "3   9\n",
    "3   3\n",
    "\"\"\"\n",
    "test_data_a = test_data_a[1:-1] # remove newline at beginning used to maintain formatting"
   ]
  },
  {
   "cell_type": "code",
   "execution_count": 44,
   "metadata": {},
   "outputs": [],
   "source": [
    "def solve_part_a(data:str):\n",
    "    pairs = data.split('\\n')\n",
    "    left_list = list()\n",
    "    right_list = list()\n",
    "    for pair in pairs:\n",
    "        pair= pair.split()\n",
    "        left,right = int(pair[0]), int(pair[1])\n",
    "        left_list.append(left)\n",
    "        right_list.append(right)\n",
    "    sorted_pairs = zip(sorted(left_list),sorted(right_list))\n",
    "    solution = sum([abs(p[1] - p[0]) for p in list(sorted_pairs) ])\n",
    "    return solution\n",
    "\n",
    "assert solve_part_a(test_data_a) == test_solution_a\n",
    "\n",
    "soln_a = solve_part_a(raw_data)"
   ]
  },
  {
   "cell_type": "markdown",
   "metadata": {},
   "source": [
    "### Submit"
   ]
  },
  {
   "cell_type": "code",
   "execution_count": null,
   "metadata": {},
   "outputs": [
    {
     "name": "stdout",
     "output_type": "stream",
     "text": [
      "\u001b[32mThat's the right answer!  You are one gold star closer to finding the Chief Historian. [Continue to Part Two]\u001b[0m\n"
     ]
    },
    {
     "name": "stderr",
     "output_type": "stream",
     "text": [
      "gio: https://adventofcode.com/2024/day/1#part2: Operation not supported\n"
     ]
    }
   ],
   "source": [
    "if soln_a:\n",
    "    submit(soln_a, part=\"a\", day=puzzle_day, year=puzzle_year)"
   ]
  },
  {
   "cell_type": "markdown",
   "metadata": {},
   "source": [
    "## Solution B"
   ]
  },
  {
   "cell_type": "markdown",
   "metadata": {},
   "source": [
    "### Helper Function"
   ]
  },
  {
   "cell_type": "markdown",
   "metadata": {},
   "source": [
    "### Solve"
   ]
  },
  {
   "cell_type": "code",
   "execution_count": 49,
   "metadata": {},
   "outputs": [],
   "source": [
    "test_solution_b=31\n",
    "test_data_b = \"\"\"\n",
    "3   4\n",
    "4   3\n",
    "2   5\n",
    "1   3\n",
    "3   9\n",
    "3   3\"\"\"\n",
    "test_data_b = test_data_b[1:] # remove newline at beginning used to maintain formatting"
   ]
  },
  {
   "cell_type": "code",
   "execution_count": 50,
   "metadata": {},
   "outputs": [],
   "source": [
    "def solve_part_b(data:str):\n",
    "    pairs = data.split(\"\\n\") \n",
    "    left_list = list()\n",
    "    right_list = list()\n",
    "    for pair in pairs:\n",
    "        pair= pair.split()\n",
    "        left,right = int(pair[0]), int(pair[1])\n",
    "        left_list.append(left)\n",
    "        right_list.append(right)\n",
    "    solution = sum([n*right_list.count(n) for n in list(left_list)])\n",
    "    return solution\n",
    "assert solve_part_b(test_data_b) == test_solution_b\n",
    "soln_b = solve_part_b(raw_data)"
   ]
  },
  {
   "cell_type": "markdown",
   "metadata": {},
   "source": [
    "### Submit"
   ]
  },
  {
   "cell_type": "code",
   "execution_count": null,
   "metadata": {},
   "outputs": [
    {
     "name": "stdout",
     "output_type": "stream",
     "text": [
      "\u001b[32mThat's the right answer!  You are one gold star closer to finding the Chief Historian.You have completed Day 1! You can [Shareon\n",
      "  Bluesky\n",
      "Twitter\n",
      "Mastodon] this victory or [Return to Your Advent Calendar].\u001b[0m\n"
     ]
    },
    {
     "name": "stderr",
     "output_type": "stream",
     "text": [
      "gio: https://adventofcode.com/2024/day/1#part2: Operation not supported\n"
     ]
    }
   ],
   "source": [
    "if soln_b:\n",
    "    submit(soln_b, part=\"b\", day=puzzle_day, year=puzzle_year)"
   ]
  }
 ],
 "metadata": {
  "kernelspec": {
   "display_name": ".venv",
   "language": "python",
   "name": "python3"
  },
  "language_info": {
   "codemirror_mode": {
    "name": "ipython",
    "version": 3
   },
   "file_extension": ".py",
   "mimetype": "text/x-python",
   "name": "python",
   "nbconvert_exporter": "python",
   "pygments_lexer": "ipython3",
   "version": "3.12.3"
  }
 },
 "nbformat": 4,
 "nbformat_minor": 2
}
