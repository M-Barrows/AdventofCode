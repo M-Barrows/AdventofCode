{
 "cells": [
  {
   "cell_type": "markdown",
   "metadata": {},
   "source": [
    "## Load Packages"
   ]
  },
  {
   "cell_type": "code",
   "execution_count": 22,
   "metadata": {},
   "outputs": [],
   "source": [
    "from aocd import get_data, submit\n",
    "from dotenv import load_dotenv"
   ]
  },
  {
   "cell_type": "markdown",
   "metadata": {},
   "source": [
    "## Configure Environment"
   ]
  },
  {
   "cell_type": "code",
   "execution_count": 23,
   "metadata": {},
   "outputs": [
    {
     "data": {
      "text/plain": [
       "True"
      ]
     },
     "execution_count": 23,
     "metadata": {},
     "output_type": "execute_result"
    }
   ],
   "source": [
    "puzzle_day = 2\n",
    "puzzle_year = 2024\n",
    "load_dotenv()"
   ]
  },
  {
   "cell_type": "markdown",
   "metadata": {},
   "source": [
    "## Load Data"
   ]
  },
  {
   "cell_type": "code",
   "execution_count": 24,
   "metadata": {},
   "outputs": [],
   "source": [
    "raw_data = get_data(day=puzzle_day, year=puzzle_year)"
   ]
  },
  {
   "cell_type": "markdown",
   "metadata": {},
   "source": [
    "## Solution A"
   ]
  },
  {
   "cell_type": "markdown",
   "metadata": {},
   "source": [
    "### Solve"
   ]
  },
  {
   "cell_type": "code",
   "execution_count": 25,
   "metadata": {},
   "outputs": [],
   "source": [
    "test_solution_a=2\n",
    "test_data_a = \"\"\"\n",
    "7 6 4 2 1\n",
    "1 2 7 8 9\n",
    "9 7 6 2 1\n",
    "1 3 2 4 5\n",
    "8 6 4 4 1\n",
    "1 3 6 7 9\"\"\"\n",
    "test_data_a = test_data_a[1:] # remove newline at beginning used to maintain formatting"
   ]
  },
  {
   "cell_type": "code",
   "execution_count": 26,
   "metadata": {},
   "outputs": [],
   "source": [
    "def solve_part_a(data:str):\n",
    "    reports = data.split('\\n')\n",
    "    reports_list=[r.split() for r in reports]\n",
    "    reports_list_delta = list()\n",
    "    safe_reports = 0\n",
    "    for r in reports_list:\n",
    "        list_deltas = list()\n",
    "        for i,x in enumerate(r):\n",
    "            if i > 0:\n",
    "                list_deltas.append(int(x) - int(r[i-1]))\n",
    "        reports_list_delta.append(list_deltas)\n",
    "    \n",
    "    for r in reports_list_delta:\n",
    "        if not any([abs(x)>3 or abs(x)<1 for x in r]) and (all([x>0 for x in r]) or all([x<0 for x in r])):\n",
    "            safe_reports += 1\n",
    "\n",
    "    return safe_reports\n",
    "\n",
    "assert solve_part_a(test_data_a) == test_solution_a\n",
    "\n",
    "soln_a = solve_part_a(raw_data)"
   ]
  },
  {
   "cell_type": "markdown",
   "metadata": {},
   "source": [
    "### Submit"
   ]
  },
  {
   "cell_type": "code",
   "execution_count": 27,
   "metadata": {},
   "outputs": [
    {
     "name": "stdout",
     "output_type": "stream",
     "text": [
      "aocd will not submit that answer again. At 2024-12-02 00:18:01.154149-05:00 you've previously submitted 279 and the server responded with:\n",
      "\u001b[32mThat's the right answer!  You are one gold star closer to finding the Chief Historian. [Continue to Part Two]\u001b[0m\n"
     ]
    }
   ],
   "source": [
    "if soln_a:\n",
    "    submit(soln_a, part=\"a\", day=puzzle_day, year=puzzle_year)"
   ]
  },
  {
   "cell_type": "markdown",
   "metadata": {},
   "source": [
    "## Solution B"
   ]
  },
  {
   "cell_type": "markdown",
   "metadata": {},
   "source": [
    "### Helper Function"
   ]
  },
  {
   "cell_type": "markdown",
   "metadata": {},
   "source": [
    "### Solve"
   ]
  },
  {
   "cell_type": "code",
   "execution_count": 28,
   "metadata": {},
   "outputs": [],
   "source": [
    "test_solution_b=4\n",
    "test_data_b = \"\"\"\n",
    "7 6 4 2 1\n",
    "1 2 7 8 9\n",
    "9 7 6 2 1\n",
    "1 3 2 4 5\n",
    "8 6 4 4 1\n",
    "1 3 6 7 9\"\"\"\n",
    "test_data_b = test_data_b[1:] # remove newline at beginning used to maintain formatting"
   ]
  },
  {
   "cell_type": "code",
   "execution_count": 29,
   "metadata": {},
   "outputs": [],
   "source": [
    "def sign(x):\n",
    "    if x < 0: \n",
    "        return -1\n",
    "    elif x == 0:\n",
    "        return 0 \n",
    "    else:\n",
    "        return 1"
   ]
  },
  {
   "cell_type": "code",
   "execution_count": 30,
   "metadata": {},
   "outputs": [],
   "source": [
    "def all_same_direction(l:list) -> bool:\n",
    "    signs = list()\n",
    "    for i,x in enumerate(l):\n",
    "        if i > 0:\n",
    "            signs.append(sign(x-l[i-1]))\n",
    "    return (all([x==1 for x in signs]) or all([x==-1 for x in signs]))"
   ]
  },
  {
   "cell_type": "code",
   "execution_count": 31,
   "metadata": {},
   "outputs": [
    {
     "data": {
      "text/plain": [
       "False"
      ]
     },
     "execution_count": 31,
     "metadata": {},
     "output_type": "execute_result"
    }
   ],
   "source": [
    "all_same_direction([26, 29, 31, 34, 35, 33, 35])"
   ]
  },
  {
   "cell_type": "code",
   "execution_count": 32,
   "metadata": {},
   "outputs": [],
   "source": [
    "def all_safe_delta(l:list) -> bool:\n",
    "    deltas = list()\n",
    "    for i,x in enumerate(l):\n",
    "        if i > 0:\n",
    "            deltas.append(abs(x-l[i-1]))\n",
    "    result = all([x<=3 for x in deltas]) and all([x>0 for x in deltas])\n",
    "    return result"
   ]
  },
  {
   "cell_type": "code",
   "execution_count": null,
   "metadata": {},
   "outputs": [
    {
     "name": "stdout",
     "output_type": "stream",
     "text": [
      "[71, 73, 74, 76, 78, 80, 77]\n",
      "[78, 81, 84, 87, 87]\n",
      "[37, 40, 43, 46, 50]\n",
      "[12, 13, 15, 17, 18, 19, 21, 27]\n",
      "[42, 43, 45, 45, 47]\n",
      "[55, 52, 53, 54, 56, 57]\n",
      "[76, 76, 78, 80, 82, 83, 85]\n",
      "[31, 35, 36, 38, 40, 41, 42]\n",
      "[25, 30, 32, 33, 34, 37]\n",
      "[66, 63, 60, 58, 56, 57]\n",
      "[88, 85, 84, 83, 83]\n",
      "[57, 54, 51, 50, 49, 45]\n",
      "[26, 23, 20, 19, 16, 11]\n",
      "[78, 75, 74, 75, 73]\n",
      "[55, 54, 52, 55, 49]\n",
      "[80, 79, 79, 77, 76]\n",
      "[84, 85, 82, 79, 78]\n",
      "[26, 26, 25, 23, 20, 17, 16, 14]\n",
      "[43, 39, 37, 34, 33]\n",
      "[30, 23, 21, 18, 15, 12]\n",
      "[9, 12, 14, 17, 20, 21, 18]\n",
      "[75, 76, 79, 80, 82, 83, 84, 84]\n",
      "[15, 16, 18, 20, 22, 26]\n",
      "[68, 69, 72, 73, 78]\n",
      "[66, 67, 69, 71, 72, 72, 75, 77]\n",
      "[62, 64, 66, 70, 69]\n",
      "[17, 15, 16, 19, 20, 23, 25]\n",
      "[88, 85, 87, 86, 85]\n",
      "[12, 9, 13, 15, 18, 20]\n",
      "[5, 5, 8, 10, 12, 14, 15]\n",
      "[17, 21, 23, 24, 27]\n",
      "[21, 26, 27, 30, 32, 33]\n",
      "[68, 65, 64, 63, 61, 62]\n",
      "[11, 8, 6, 3, 2, 2]\n",
      "[31, 30, 29, 28, 25, 23, 22, 18]\n",
      "[90, 88, 85, 83, 80, 73]\n",
      "[26, 24, 22, 21, 19, 21, 18, 17]\n",
      "[76, 74, 72, 72, 70, 67]\n",
      "[75, 72, 70, 69, 66, 62, 64]\n",
      "[56, 57, 56, 55, 54, 51, 50, 49]\n",
      "[57, 57, 54, 53, 50, 47, 46, 43]\n",
      "[56, 52, 49, 47, 45]\n",
      "[89, 85, 88, 85, 82, 81, 80]\n",
      "[48, 43, 40, 37, 34, 32]\n",
      "[93, 86, 83, 81, 79]\n",
      "[82, 81, 80, 78, 77, 76, 72, 74]\n",
      "[81, 76, 78, 77, 75]\n",
      "[73, 70, 67, 65, 63, 60, 57, 53]\n",
      "[81, 84, 81, 80, 77, 75, 72, 69]\n",
      "[75, 71, 68, 65, 63, 60]\n",
      "[65, 69, 68, 71, 73, 76]\n",
      "[22, 28, 31, 33, 34, 37, 38]\n",
      "[40, 43, 45, 47, 49, 47]\n",
      "[88, 85, 82, 81, 80, 77, 77, 74]\n",
      "[69, 69, 67, 65, 62]\n",
      "[29, 27, 25, 23, 20, 19, 17, 20]\n",
      "[33, 33, 35, 36, 38, 41, 42, 45]\n",
      "[20, 17, 21, 22, 24, 26, 29]\n",
      "[67, 68, 70, 73, 76, 78, 85]\n",
      "[76, 79, 81, 82, 83, 84, 88]\n",
      "[59, 62, 63, 64, 66, 69, 72, 72]\n",
      "[75, 79, 81, 84, 87, 89, 92, 94]\n",
      "[97, 94, 91, 90, 90]\n",
      "[32, 30, 28, 25, 22, 19, 12]\n"
     ]
    }
   ],
   "source": [
    "def solve_part_b(data:str):\n",
    "    reports = data.split('\\n')\n",
    "    reports_list=[r.split() for r in reports]\n",
    "    reports_list_delta = list()\n",
    "    safe_reports = 0\n",
    "    for report in reports_list:\n",
    "        report = [int(x) for x in report]\n",
    "        if all_safe_delta(report) and all_same_direction(report):\n",
    "            safe_reports += 1\n",
    "        else:\n",
    "            for i,l in enumerate(report):\n",
    "                new_report = report.copy()\n",
    "                new_report.pop(i)\n",
    "                if all_safe_delta(new_report) and all_same_direction(new_report):\n",
    "                    safe_reports += 1\n",
    "                    break\n",
    "    return safe_reports\n",
    "# assert solve_part_b(test_data_b) == test_solution_b\n",
    "soln_b = solve_part_b(raw_data)"
   ]
  },
  {
   "cell_type": "markdown",
   "metadata": {},
   "source": [
    "### Submit"
   ]
  },
  {
   "cell_type": "code",
   "execution_count": 34,
   "metadata": {},
   "outputs": [
    {
     "name": "stdout",
     "output_type": "stream",
     "text": [
      "\u001b[32mThat's the right answer!  You are one gold star closer to finding the Chief Historian.You have completed Day 2! You can [Shareon\n",
      "  Bluesky\n",
      "Twitter\n",
      "Mastodon] this victory or [Return to Your Advent Calendar].\u001b[0m\n"
     ]
    },
    {
     "name": "stderr",
     "output_type": "stream",
     "text": [
      "gio: https://adventofcode.com/2024/day/2#part2: Operation not supported\n"
     ]
    }
   ],
   "source": [
    "if soln_b:\n",
    "    submit(soln_b, part=\"b\", day=puzzle_day, year=puzzle_year)"
   ]
  }
 ],
 "metadata": {
  "kernelspec": {
   "display_name": ".venv",
   "language": "python",
   "name": "python3"
  },
  "language_info": {
   "codemirror_mode": {
    "name": "ipython",
    "version": 3
   },
   "file_extension": ".py",
   "mimetype": "text/x-python",
   "name": "python",
   "nbconvert_exporter": "python",
   "pygments_lexer": "ipython3",
   "version": "3.12.3"
  }
 },
 "nbformat": 4,
 "nbformat_minor": 2
}
