{
 "cells": [
  {
   "cell_type": "markdown",
   "metadata": {},
   "source": [
    "## Load Packages"
   ]
  },
  {
   "cell_type": "code",
   "execution_count": 1,
   "metadata": {},
   "outputs": [],
   "source": [
    "from aocd import get_data, submit\n",
    "from dotenv import load_dotenv\n",
    "import pandas as pd\n",
    "from collections import namedtuple\n",
    "from itertools import product"
   ]
  },
  {
   "cell_type": "markdown",
   "metadata": {},
   "source": [
    "## Configure Environment"
   ]
  },
  {
   "cell_type": "code",
   "execution_count": 2,
   "metadata": {},
   "outputs": [
    {
     "data": {
      "text/plain": [
       "True"
      ]
     },
     "execution_count": 2,
     "metadata": {},
     "output_type": "execute_result"
    }
   ],
   "source": [
    "puzzle_day = 4\n",
    "puzzle_year = 2024\n",
    "load_dotenv()"
   ]
  },
  {
   "cell_type": "markdown",
   "metadata": {},
   "source": [
    "## Load Data"
   ]
  },
  {
   "cell_type": "code",
   "execution_count": 3,
   "metadata": {},
   "outputs": [],
   "source": [
    "raw_data = get_data(day=puzzle_day, year=puzzle_year)"
   ]
  },
  {
   "cell_type": "markdown",
   "metadata": {},
   "source": [
    "## Solution A"
   ]
  },
  {
   "cell_type": "markdown",
   "metadata": {},
   "source": [
    "### Solve"
   ]
  },
  {
   "cell_type": "code",
   "execution_count": 4,
   "metadata": {},
   "outputs": [],
   "source": [
    "test_solution_a=18\n",
    "test_data_a = \"\"\"\n",
    "MMMSXXMASM\n",
    "MSAMXMSMSA\n",
    "AMXSXMAAMM\n",
    "MSAMASMSMX\n",
    "XMASAMXAMM\n",
    "XXAMMXXAMA\n",
    "SMSMSASXSS\n",
    "SAXAMASAAA\n",
    "MAMMMXMMMM\n",
    "MXMXAXMASX\"\"\"\n",
    "test_data_a = test_data_a[1:] # remove newline at beginning used to maintain formatting"
   ]
  },
  {
   "cell_type": "code",
   "execution_count": 82,
   "metadata": {},
   "outputs": [],
   "source": [
    "Vec = namedtuple('Vec',['dx','dy'])\n",
    "search_space=[\n",
    "    Vec(1,0),\n",
    "    Vec(1,1),\n",
    "    Vec(1,-1),\n",
    "    Vec(-1,0),\n",
    "    Vec(-1,1),\n",
    "    Vec(-1,-1),\n",
    "    Vec(0,1),\n",
    "    Vec(0,-1)\n",
    "]\n",
    "\n",
    "def is_word(x:int,y:int,word:str,data):\n",
    "    found=0\n",
    "    for v in search_space:\n",
    "        letters = list()\n",
    "        try:\n",
    "            for i in range(len(word)):\n",
    "                if y+v.dy*i < 0 or x+v.dx*i <0:\n",
    "                    continue\n",
    "                letters.append(data.iloc[max(0,y+(v.dy*i)),max(0,x+(v.dx*i))])\n",
    "            if word in [''.join(letters)]:\n",
    "                found += 1\n",
    "        except IndexError:\n",
    "            continue\n",
    "\n",
    "    return found"
   ]
  },
  {
   "cell_type": "code",
   "execution_count": 85,
   "metadata": {},
   "outputs": [
    {
     "name": "stdout",
     "output_type": "stream",
     "text": [
      "18\n"
     ]
    }
   ],
   "source": [
    "def solve_part_a(data:str):\n",
    "    rows = data.split('\\n')\n",
    "    grid = [list(x) for x in rows]\n",
    "    h,w = (len(grid),len(grid[0]))\n",
    "    count = 0\n",
    "    starts = list()\n",
    "    grid = pd.DataFrame(grid)\n",
    "    for cell in product(range(w),range(h)):\n",
    "        found = is_word(*cell,'XMAS',grid)\n",
    "        if found > 0:\n",
    "            count += found\n",
    "            starts.append((cell,found))\n",
    "    return count\n",
    "print(solve_part_a(test_data_a))\n",
    "\n",
    "assert solve_part_a(test_data_a) == test_solution_a\n",
    "# solve_part_a(test_data_a)\n",
    "soln_a = solve_part_a(raw_data)"
   ]
  },
  {
   "cell_type": "markdown",
   "metadata": {},
   "source": [
    "### Submit"
   ]
  },
  {
   "cell_type": "code",
   "execution_count": null,
   "metadata": {},
   "outputs": [
    {
     "name": "stdout",
     "output_type": "stream",
     "text": [
      "\u001b[32mThat's the right answer!  You are one gold star closer to finding the Chief Historian. [Continue to Part Two]\u001b[0m\n"
     ]
    },
    {
     "name": "stderr",
     "output_type": "stream",
     "text": [
      "gio: https://adventofcode.com/2024/day/4#part2: Operation not supported\n"
     ]
    }
   ],
   "source": [
    "if soln_a:\n",
    "    submit(soln_a, part=\"a\", day=puzzle_day, year=puzzle_year)"
   ]
  },
  {
   "cell_type": "markdown",
   "metadata": {},
   "source": [
    "## Solution B"
   ]
  },
  {
   "cell_type": "markdown",
   "metadata": {},
   "source": [
    "### Helper Function"
   ]
  },
  {
   "cell_type": "markdown",
   "metadata": {},
   "source": [
    "### Solve"
   ]
  },
  {
   "cell_type": "code",
   "execution_count": null,
   "metadata": {},
   "outputs": [],
   "source": [
    "test_solution_b=48\n",
    "test_data_b = \"\"\"\n",
    "\"\"\"\n",
    "test_data_b = test_data_b[1:] # remove newline at beginning used to maintain formatting"
   ]
  },
  {
   "cell_type": "code",
   "execution_count": null,
   "metadata": {},
   "outputs": [
    {
     "name": "stderr",
     "output_type": "stream",
     "text": [
      "<>:2: SyntaxWarning: invalid escape sequence '\\('\n",
      "<>:2: SyntaxWarning: invalid escape sequence '\\('\n",
      "/tmp/ipykernel_38305/2231864273.py:2: SyntaxWarning: invalid escape sequence '\\('\n",
      "  cmds = re.findall(\"do\\(\\)|don't\\(\\)|mul\\(\\d{1,3}\\,\\d{1,3}\\)\",data)\n"
     ]
    }
   ],
   "source": [
    "def solve_part_b(data:str):\n",
    "    return None\n",
    "assert solve_part_b(test_data_b) == test_solution_b\n",
    "soln_b = solve_part_b(raw_data)"
   ]
  },
  {
   "cell_type": "markdown",
   "metadata": {},
   "source": [
    "### Submit"
   ]
  },
  {
   "cell_type": "code",
   "execution_count": null,
   "metadata": {},
   "outputs": [
    {
     "name": "stdout",
     "output_type": "stream",
     "text": [
      "\u001b[32mThat's the right answer!  You are one gold star closer to finding the Chief Historian.You have completed Day 3! You can [Shareon\n",
      "  Bluesky\n",
      "Twitter\n",
      "Mastodon] this victory or [Return to Your Advent Calendar].\u001b[0m\n"
     ]
    },
    {
     "name": "stderr",
     "output_type": "stream",
     "text": [
      "gio: https://adventofcode.com/2024/day/3#part2: Operation not supported\n"
     ]
    }
   ],
   "source": [
    "if soln_b:\n",
    "    submit(soln_b, part=\"b\", day=puzzle_day, year=puzzle_year)"
   ]
  }
 ],
 "metadata": {
  "kernelspec": {
   "display_name": ".venv",
   "language": "python",
   "name": "python3"
  },
  "language_info": {
   "codemirror_mode": {
    "name": "ipython",
    "version": 3
   },
   "file_extension": ".py",
   "mimetype": "text/x-python",
   "name": "python",
   "nbconvert_exporter": "python",
   "pygments_lexer": "ipython3",
   "version": "3.12.3"
  }
 },
 "nbformat": 4,
 "nbformat_minor": 2
}
