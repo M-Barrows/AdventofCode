{
 "cells": [
  {
   "cell_type": "markdown",
   "metadata": {},
   "source": [
    "## Load Packages"
   ]
  },
  {
   "cell_type": "code",
   "execution_count": 41,
   "metadata": {},
   "outputs": [],
   "source": [
    "from aocd import get_data, submit\n",
    "from dotenv import load_dotenv"
   ]
  },
  {
   "cell_type": "markdown",
   "metadata": {},
   "source": [
    "## Configure Environment"
   ]
  },
  {
   "cell_type": "code",
   "execution_count": 42,
   "metadata": {},
   "outputs": [
    {
     "data": {
      "text/plain": [
       "True"
      ]
     },
     "execution_count": 42,
     "metadata": {},
     "output_type": "execute_result"
    }
   ],
   "source": [
    "puzzle_day = 5\n",
    "puzzle_year = 2024\n",
    "load_dotenv()"
   ]
  },
  {
   "cell_type": "markdown",
   "metadata": {},
   "source": [
    "## Load Data"
   ]
  },
  {
   "cell_type": "code",
   "execution_count": 43,
   "metadata": {},
   "outputs": [],
   "source": [
    "raw_data = get_data(day=puzzle_day, year=puzzle_year)"
   ]
  },
  {
   "cell_type": "markdown",
   "metadata": {},
   "source": [
    "## Solution A"
   ]
  },
  {
   "cell_type": "markdown",
   "metadata": {},
   "source": [
    "### Solve"
   ]
  },
  {
   "cell_type": "code",
   "execution_count": 44,
   "metadata": {},
   "outputs": [],
   "source": [
    "test_solution_a=143\n",
    "test_data_b = \"\"\"\n",
    "47|53\n",
    "97|13\n",
    "97|61\n",
    "97|47\n",
    "75|29\n",
    "61|13\n",
    "75|53\n",
    "29|13\n",
    "97|29\n",
    "53|29\n",
    "61|53\n",
    "97|53\n",
    "61|29\n",
    "47|13\n",
    "75|47\n",
    "97|75\n",
    "47|61\n",
    "75|61\n",
    "47|29\n",
    "75|13\n",
    "53|13\n",
    "\n",
    "75,47,61,53,29\n",
    "97,61,53,29,13\n",
    "75,29,13\n",
    "75,97,47,61,53\n",
    "61,13,29\n",
    "97,13,75,29,47\"\"\"\n",
    "test_data_b = test_data_b[1:] # remove newline at beginning used to maintain formatting"
   ]
  },
  {
   "cell_type": "code",
   "execution_count": 45,
   "metadata": {},
   "outputs": [],
   "source": [
    "def rules_valid(update,rules) -> bool:\n",
    "    for r in rules:\n",
    "        if r[0] in update and r[1] in update and update.index(r[0]) > update.index(r[1]):\n",
    "            return False\n",
    "        else:\n",
    "            continue\n",
    "    return True"
   ]
  },
  {
   "cell_type": "code",
   "execution_count": 46,
   "metadata": {},
   "outputs": [
    {
     "name": "stdout",
     "output_type": "stream",
     "text": [
      "['61', '53', '29']\n",
      "143\n",
      "['61', '53', '29']\n",
      "['79', '16', '18', '93', '21', '33', '84', '29', '45', '82', '44', '31', '21', '93', '63', '54', '84', '46', '78', '93', '75', '44', '98', '11', '85', '63', '53', '51', '63', '92', '24', '92', '13', '37', '93', '78', '73', '17', '21', '58', '71', '92', '59', '31', '33', '84', '85', '19', '85', '32', '13', '39', '36', '28', '29', '33', '85', '35', '86', '28', '86', '86', '11', '13', '25', '31', '57', '84', '18', '86', '25', '59', '92', '53', '56', '61', '42', '21', '78', '24', '59', '63', '28', '98', '49', '53']\n"
     ]
    }
   ],
   "source": [
    "def solve_part_b(data:str):\n",
    "    data = data.split('\\n\\n')\n",
    "    rules = [x.split('|') for x in data[0].split('\\n')]\n",
    "    updates = [x.split(',') for x in data[1].split('\\n')]\n",
    "    valid_updates = list()\n",
    "    middle_pages = list()\n",
    "    for u in updates:\n",
    "        if rules_valid(u,rules):\n",
    "            valid_updates.append(u)\n",
    "\n",
    "    for u in valid_updates:\n",
    "        middle = int((len(u)-1)/2)\n",
    "        middle_pages.append(u[middle])\n",
    "    print(middle_pages)\n",
    "    return sum([int(x) for x in middle_pages])\n",
    "print(solve_part_b(test_data_b))\n",
    "assert solve_part_b(test_data_b) == test_solution_a\n",
    "soln_a = solve_part_b(raw_data)"
   ]
  },
  {
   "cell_type": "markdown",
   "metadata": {},
   "source": [
    "### Submit"
   ]
  },
  {
   "cell_type": "code",
   "execution_count": 47,
   "metadata": {},
   "outputs": [
    {
     "name": "stdout",
     "output_type": "stream",
     "text": [
      "aocd will not submit that answer again. At 2024-12-05 01:50:15.405871-05:00 you've previously submitted 4609 and the server responded with:\n",
      "\u001b[32mThat's the right answer!  You are one gold star closer to finding the Chief Historian. [Continue to Part Two]\u001b[0m\n"
     ]
    }
   ],
   "source": [
    "if soln_a:\n",
    "    submit(soln_a, part=\"a\", day=puzzle_day, year=puzzle_year)"
   ]
  },
  {
   "cell_type": "markdown",
   "metadata": {},
   "source": [
    "## Solution B"
   ]
  },
  {
   "cell_type": "markdown",
   "metadata": {},
   "source": [
    "### Helper Function"
   ]
  },
  {
   "cell_type": "markdown",
   "metadata": {},
   "source": [
    "### Solve"
   ]
  },
  {
   "cell_type": "code",
   "execution_count": 48,
   "metadata": {},
   "outputs": [],
   "source": [
    "test_solution_b=123\n",
    "test_data_b = test_data_a\n",
    "test_data_b = test_data_b[1:] # remove newline at beginning used to maintain formatting"
   ]
  },
  {
   "cell_type": "code",
   "execution_count": 49,
   "metadata": {},
   "outputs": [],
   "source": [
    "def fix_update(update,rules) -> bool:\n",
    "    for r in rules:\n",
    "        if r[0] in update and r[1] in update and update.index(r[0]) > update.index(r[1]):\n",
    "            update[update.index(r[0])] = r[1]\n",
    "            update[update.index(r[1])] = r[0]\n",
    "            fix_update(update,rules)\n",
    "        else:\n",
    "            continue\n",
    "    return update"
   ]
  },
  {
   "cell_type": "code",
   "execution_count": 50,
   "metadata": {},
   "outputs": [
    {
     "name": "stdout",
     "output_type": "stream",
     "text": [
      "['47', '29', '47']\n",
      "123\n",
      "['47', '29', '47']\n",
      "['18', '25', '42', '31', '32', '17', '71', '11', '44', '93', '57', '61', '21', '13', '54', '39', '44', '24', '44', '53', '21', '13', '57', '32', '19', '71', '71', '11', '86', '59', '95', '36', '16', '29', '31', '13', '33', '75', '21', '36', '71', '63', '71', '29', '19', '37', '21', '46', '78', '93', '53', '28', '79', '73', '46', '58', '63', '85', '13', '51', '53', '54', '33', '33', '48', '24', '46', '29', '24', '49', '33', '71', '46', '58', '24', '75', '61', '31', '37', '76', '13', '76', '44', '36', '56', '61', '13', '63', '17', '49', '49', '99', '45', '63', '99', '48', '73', '61', '85', '46', '92', '71', '56', '73', '32', '54', '86', '61', '37', '58', '42', '93', '79', '33', '13', '95', '51']\n"
     ]
    }
   ],
   "source": [
    "def solve_part_b(data:str):\n",
    "    data = data.split('\\n\\n')\n",
    "    rules = [x.split('|') for x in data[0].split('\\n')]\n",
    "    updates = [x.split(',') for x in data[1].split('\\n')]\n",
    "    invalid_updates = list()\n",
    "    middle_pages = list()\n",
    "    for u in updates:\n",
    "        if not rules_valid(u,rules):\n",
    "            invalid_updates.append(u)\n",
    "\n",
    "    for u in invalid_updates:\n",
    "        new_u = fix_update(u,rules)\n",
    "        middle = int((len(new_u)-1)/2)\n",
    "        middle_pages.append(new_u[middle])\n",
    "    print(middle_pages)\n",
    "    return sum([int(x) for x in middle_pages])\n",
    "print(solve_part_b(test_data_b))\n",
    "assert solve_part_b(test_data_b) == test_solution_b\n",
    "soln_b = solve_part_b(raw_data)"
   ]
  },
  {
   "cell_type": "markdown",
   "metadata": {},
   "source": [
    "### Submit"
   ]
  },
  {
   "cell_type": "code",
   "execution_count": 51,
   "metadata": {},
   "outputs": [
    {
     "name": "stdout",
     "output_type": "stream",
     "text": [
      "aocd will not submit that answer again. At 2024-12-05 02:05:45.164612-05:00 you've previously submitted 5723 and the server responded with:\n",
      "\u001b[32mThat's the right answer!  You are one gold star closer to finding the Chief Historian.You have completed Day 5! You can [Shareon\n",
      "  Bluesky\n",
      "Twitter\n",
      "Mastodon] this victory or [Return to Your Advent Calendar].\u001b[0m\n"
     ]
    }
   ],
   "source": [
    "if soln_b:\n",
    "    submit(soln_b, part=\"b\", day=puzzle_day, year=puzzle_year)"
   ]
  }
 ],
 "metadata": {
  "kernelspec": {
   "display_name": ".venv",
   "language": "python",
   "name": "python3"
  },
  "language_info": {
   "codemirror_mode": {
    "name": "ipython",
    "version": 3
   },
   "file_extension": ".py",
   "mimetype": "text/x-python",
   "name": "python",
   "nbconvert_exporter": "python",
   "pygments_lexer": "ipython3",
   "version": "3.12.3"
  }
 },
 "nbformat": 4,
 "nbformat_minor": 2
}
